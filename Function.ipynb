{
  "nbformat": 4,
  "nbformat_minor": 0,
  "metadata": {
    "colab": {
      "provenance": [],
      "collapsed_sections": [
        "Icg9tTz_KJrn",
        "EuzvTLy7KrAW"
      ]
    },
    "kernelspec": {
      "name": "python3",
      "display_name": "Python 3"
    },
    "language_info": {
      "name": "python"
    }
  },
  "cells": [
    {
      "cell_type": "markdown",
      "source": [
        "# Function Theory Questions\n",
        "\n"
      ],
      "metadata": {
        "id": "Icg9tTz_KJrn"
      }
    },
    {
      "cell_type": "markdown",
      "source": [
        "1. What is the difference between a function and a method in Python?\n",
        "   - A **Function** is a block of code that performs a specific task and can be called independently.\n",
        "   - A **method** is a  function that is associated with an object and is colled on that object.\n",
        "\n"
      ],
      "metadata": {
        "id": "KdJVyJIgKoYV"
      }
    },
    {
      "cell_type": "code",
      "source": [
        "# function\n",
        "\n",
        "def greet(name):\n",
        "    return f\"Hello, {name}\"\n",
        "print(greet(\"Alice\"))\n",
        "\n",
        "# method\n",
        "\n",
        "name = \"Alice\"\n",
        "print(name.upper())"
      ],
      "metadata": {
        "colab": {
          "base_uri": "https://localhost:8080/"
        },
        "id": "1E0jatmfH9pQ",
        "outputId": "71b33a80-7204-4b47-9aed-ff2c733d2000"
      },
      "execution_count": 3,
      "outputs": [
        {
          "output_type": "stream",
          "name": "stdout",
          "text": [
            "Hello, Alice\n",
            "ALICE\n"
          ]
        }
      ]
    },
    {
      "cell_type": "markdown",
      "source": [
        "2. Explain the concept of function arguments and parameters in Python.\n",
        "   - **Parameters** are variable defined in the function signature, while **arguments** are the values passed to the function when it is called."
      ],
      "metadata": {
        "id": "6WwhYQJSKrLS"
      }
    },
    {
      "cell_type": "code",
      "source": [
        "def greet(name):\n",
        "    return f\"Hello, {name}\"\n",
        "print(greet(\"Alice\"))"
      ],
      "metadata": {
        "colab": {
          "base_uri": "https://localhost:8080/"
        },
        "id": "x0ngGQ9JI-ss",
        "outputId": "e32590ec-c139-43fa-a93a-fdb41ce7e44a"
      },
      "execution_count": 4,
      "outputs": [
        {
          "output_type": "stream",
          "name": "stdout",
          "text": [
            "Hello, Alice\n"
          ]
        }
      ]
    },
    {
      "cell_type": "markdown",
      "source": [
        "3. What are the different ways to define and call a function in Python?\n",
        "   - In Python, function can be defined using the def keyword, and they can be called by their name with arguments.\n",
        "\n",
        "**Ways to define:**\n",
        "\n",
        "1. Using **def** keyword:"
      ],
      "metadata": {
        "id": "EuzvTLy7KrAW"
      }
    },
    {
      "cell_type": "code",
      "source": [
        "def greet(name):\n",
        "  return f\"hello, {name}!\""
      ],
      "metadata": {
        "id": "rvHH9eJeJkxc"
      },
      "execution_count": null,
      "outputs": []
    },
    {
      "cell_type": "markdown",
      "source": [
        "2. Using a **lambda** **function**(for small, one-line function)"
      ],
      "metadata": {
        "id": "vleAeW3IKKbG"
      }
    },
    {
      "cell_type": "code",
      "source": [
        "greet = lambda name: f\"hello, {name}!\""
      ],
      "metadata": {
        "id": "ho16tLl4Kjk4"
      },
      "execution_count": null,
      "outputs": []
    },
    {
      "cell_type": "markdown",
      "source": [
        "\n",
        "**Ways to call:**\n",
        "\n",
        "1. Calling a function defined with **def**:"
      ],
      "metadata": {
        "id": "X-S0g9mRKlCX"
      }
    },
    {
      "cell_type": "code",
      "source": [
        "print(greet(\"Alice\")"
      ],
      "metadata": {
        "id": "NigmjrnIKzvn"
      },
      "execution_count": null,
      "outputs": []
    },
    {
      "cell_type": "markdown",
      "source": [
        "2. calling a **lambda** **function**:"
      ],
      "metadata": {
        "id": "m0-WWlo0LSuN"
      }
    },
    {
      "cell_type": "code",
      "source": [
        "print(greet(\"Bob\"))"
      ],
      "metadata": {
        "id": "Ownjl1JnLhFl"
      },
      "execution_count": null,
      "outputs": []
    },
    {
      "cell_type": "markdown",
      "source": [
        "4. What is the purpose of the `return` statement in a Python function?\n",
        "   - The **return** statement in a Python function is used to send a result back to the caller and exit the function.\n"
      ],
      "metadata": {
        "id": "qUS1FdB7Kq1e"
      }
    },
    {
      "cell_type": "code",
      "source": [
        "def add_numbers(a, b):\n",
        "    return a + b\n",
        "\n",
        "\n",
        "    result = add_numbers(5, 3)\n",
        "    print(result)"
      ],
      "metadata": {
        "id": "mQw9F8RuL9Gc"
      },
      "execution_count": 7,
      "outputs": []
    },
    {
      "cell_type": "markdown",
      "source": [
        "5. What are iterators in Python and how do they differ from iterables?\n",
        "   - In Python,**iterables** are object that can be looped over. Iterators are objects that represent a stream of data and can be iterated one element at a time, using the _next_() method.\n",
        "\n",
        "   **Difference**:\n",
        "    - An **iterable** can be looped over multiple times(using a for loop).\n",
        "    - An **iterator** can only be traversed once.\n",
        "\n",
        "Once the interator is exhausted, calling **next**() will raise a **StopIteration**"
      ],
      "metadata": {
        "id": "s235S0sPKqiq"
      }
    },
    {
      "cell_type": "code",
      "source": [
        "my_list = [1, 2, 3]\n",
        "my_iter = iter(my_list)\n",
        "\n",
        "print(next(my_iter))\n",
        "print(next(my_iter))\n",
        "print(next(my_iter))\n"
      ],
      "metadata": {
        "colab": {
          "base_uri": "https://localhost:8080/"
        },
        "id": "UtX6vGoyNqS6",
        "outputId": "f4ab4d5a-ad64-40be-b624-46aa1e65e10c"
      },
      "execution_count": 6,
      "outputs": [
        {
          "output_type": "stream",
          "name": "stdout",
          "text": [
            "1\n",
            "2\n",
            "3\n"
          ]
        }
      ]
    },
    {
      "cell_type": "markdown",
      "source": [
        "6. Explain the concept of generators in Python and how they are defined.\n",
        "   - Generator in Python are a type of iterator that aloow you to iterate over a sequence of values lazily, one at a time, without storing the entire sequence in memory. They are defined using a function with the **yiled** keyword instead of **return**.\n",
        "\n",
        "The generator produces values one by one, and the state is saved between iterations."
      ],
      "metadata": {
        "id": "mk77vzWtKqWk"
      }
    },
    {
      "cell_type": "code",
      "source": [
        "from typing import Counter\n",
        "def count_up_to(max):\n",
        "  count = 1\n",
        "  while count <= max:\n",
        "    yield count\n",
        "    count += 1\n",
        "\n",
        "gen = count_up_to(3)\n",
        "for num in gen:\n",
        "  print(num)"
      ],
      "metadata": {
        "colab": {
          "base_uri": "https://localhost:8080/"
        },
        "id": "xFdJuJxgPP45",
        "outputId": "fa29fd36-2cc0-418a-ff73-10045e8935f9"
      },
      "execution_count": 11,
      "outputs": [
        {
          "output_type": "stream",
          "name": "stdout",
          "text": [
            "1\n",
            "2\n",
            "3\n"
          ]
        }
      ]
    },
    {
      "cell_type": "markdown",
      "source": [
        "7. What are the advantages of using generators over regular functions?\n",
        "   - Generators offer advantages over regular functions by being more memory efficient since they generate values on-the-fly (laziy) rather than storing them all at once. This is especially useful for handling large datasets.\n",
        "\n",
        "    **Advantages**:\n",
        "    - 1. **Memory** **efficiency**: Only one item is generated at a time.\n",
        "    - 2. **Lazy** **evaluation**: Values are generated as needed,not all at once.\n",
        "\n",
        "\n",
        "This saves memory compared to storing a list of 1 million number."
      ],
      "metadata": {
        "id": "JEUhO_7iKqJZ"
      }
    },
    {
      "cell_type": "code",
      "source": [
        "\n",
        "def generate_numbers(n):\n",
        "  for i in range(n):\n",
        "    yield i\n",
        "\n",
        "gen = generate_numbers(1000000)\n",
        "for num in gen:\n",
        "  if num == 10: break"
      ],
      "metadata": {
        "id": "GZcVdlNJRVJX"
      },
      "execution_count": 16,
      "outputs": []
    },
    {
      "cell_type": "markdown",
      "source": [
        "8. What is a lambda function in Python and when is it typically used?\n",
        "   - **Lambda** **function** **in** **Python**:\n",
        "   A **lambda** **function** is a small, anonymous function defined using the **lambda** keyword. it's typically used for short,throwaway functions that are passed as argument to higher-order functions."
      ],
      "metadata": {
        "id": "HCKXcgqkKp6G"
      }
    },
    {
      "cell_type": "code",
      "source": [
        "\n",
        "multiply = lambda x, y: x * y\n",
        "print(multiply(2, 3))"
      ],
      "metadata": {
        "colab": {
          "base_uri": "https://localhost:8080/"
        },
        "id": "ApsOGC0uS1Es",
        "outputId": "121f09b4-f6c8-4245-f070-4047a34c0d35"
      },
      "execution_count": 18,
      "outputs": [
        {
          "output_type": "stream",
          "name": "stdout",
          "text": [
            "6\n"
          ]
        }
      ]
    },
    {
      "cell_type": "markdown",
      "source": [
        "9. Explain the purpose and usage of the `map()` function in Python.\n",
        "   - **map**() **finction** **in** **Python**:\n",
        "   The **map**() function applies a given function to all items in an iterable (like a list) and returns a map object (an iterator).\n",
        "\n",
        "Here, **map**() applies the lambda function to each item in the **numbers** list."
      ],
      "metadata": {
        "id": "s1SPxgViKpsd"
      }
    },
    {
      "cell_type": "code",
      "source": [
        "numbers = [1, 2, 3, 4]\n",
        "squared = map(lambda x: x ** 2, numbers)\n",
        "print(list(squared))"
      ],
      "metadata": {
        "colab": {
          "base_uri": "https://localhost:8080/"
        },
        "id": "Kck6yb9xUJeG",
        "outputId": "c080e277-f1ad-435e-8a14-09cb39b416ad"
      },
      "execution_count": 21,
      "outputs": [
        {
          "output_type": "stream",
          "name": "stdout",
          "text": [
            "[1, 4, 9, 16]\n"
          ]
        }
      ]
    },
    {
      "cell_type": "markdown",
      "source": [
        "10. What is the difference between `map()`, `reduce()`, and `filter()` functions in Python?\n",
        "  - Different between **map**(), **reduce**(), and **filter**() functions:\n",
        "\n",
        "     - **map**(): Applies a function to all item un an iterable and return a map object.\n",
        "     - **reduce**(): Applies a function cumulatively to the items of an iterable, reducing it to a single value.\n",
        "     - **filter**(): Filters elements from an iterable based on a function that returns **True** or **False**."
      ],
      "metadata": {
        "id": "3gfVa1PvKpae"
      }
    },
    {
      "cell_type": "code",
      "source": [
        "# map():\n",
        "\n",
        "numbers = [1, 2, 3, 4]\n",
        "squared = map(lambda x: x ** 2, numbers)\n",
        "print(list(squared))\n",
        "\n",
        "# reduce():\n",
        "\n",
        "from functools import reduce\n",
        "numbers = [1, 2, 3, 4]\n",
        "product = reduce(lambda x, y: x * y, numbers)\n",
        "print(product)\n",
        "\n",
        "# filter():\n",
        "\n",
        "numbers = [1, 2, 3, 4]\n",
        "even_numbers = filter(lambda x: x % 2 == 0, numbers)\n",
        "print(list(even_numbers))"
      ],
      "metadata": {
        "colab": {
          "base_uri": "https://localhost:8080/"
        },
        "id": "fJC5G9QcV9vH",
        "outputId": "09fdbe2d-fced-4de3-909d-6200b2a2dd6b"
      },
      "execution_count": 22,
      "outputs": [
        {
          "output_type": "stream",
          "name": "stdout",
          "text": [
            "[1, 4, 9, 16]\n",
            "24\n",
            "[2, 4]\n"
          ]
        }
      ]
    },
    {
      "cell_type": "markdown",
      "source": [
        "11. Using pen & Paper write the internal mechanism for sum operation using  reduce function on this given list:[47,11,42,13];\n",
        "   - **Internal** **mechanism** of **reduce**() **for** **sum** **operation** **on** [47, 11, 42, 13]:\n",
        "\n",
        "   For the input list [1, 2, 3, 4]:\n",
        "\n",
        "   1. Start with the first two elements:\n",
        "      47 + 11 = 58\n",
        "\n",
        "   2. Use the result (58) and the next element:\n",
        "       58 + 42 = 100\n",
        "\n",
        "   3. Use the result (100) and the next element:\n",
        "       100 + 13 = 113\n",
        "\n",
        "The final result is **133**"
      ],
      "metadata": {
        "id": "HOOA9LlYKo6c"
      }
    },
    {
      "cell_type": "code",
      "source": [
        "from functools import reduce\n",
        "numbers = [47, 11, 42, 13]\n",
        "result = reduce(lambda x, y: x + y, numbers)\n",
        "print(result)"
      ],
      "metadata": {
        "colab": {
          "base_uri": "https://localhost:8080/"
        },
        "id": "5TUAtbx9YVTc",
        "outputId": "72795711-58e1-4a5d-eafa-b23661b08b0f"
      },
      "execution_count": 23,
      "outputs": [
        {
          "output_type": "stream",
          "name": "stdout",
          "text": [
            "113\n"
          ]
        }
      ]
    },
    {
      "cell_type": "markdown",
      "source": [
        " # Practical Questions"
      ],
      "metadata": {
        "id": "jIbJ0akbKLEa"
      }
    },
    {
      "cell_type": "markdown",
      "source": [
        "1. Write a Python function that takes a list of numbers as input and returns the sum of all even numbers in the list."
      ],
      "metadata": {
        "id": "B1zwFmXlKvRG"
      }
    },
    {
      "cell_type": "code",
      "source": [
        "def sum_even_numbers(numbers):\n",
        "    return sum(num for num in numbers if num % 2 == 0)\n",
        "\n",
        "print(sum_even_numbers([1, 2, 3, 4, 5]))"
      ],
      "metadata": {
        "colab": {
          "base_uri": "https://localhost:8080/"
        },
        "id": "Aqr5zvXpOwnI",
        "outputId": "b33b135c-84d4-4229-adac-305a2078f1a1"
      },
      "execution_count": null,
      "outputs": [
        {
          "output_type": "stream",
          "name": "stdout",
          "text": [
            "6\n"
          ]
        }
      ]
    },
    {
      "cell_type": "markdown",
      "source": [
        "2. Create a Python function that accepts a string and returns the reverse of that string."
      ],
      "metadata": {
        "id": "okexMN3_Ku-5"
      }
    },
    {
      "cell_type": "code",
      "source": [
        "def reverse_string(string):\n",
        "    return string[::-1]\n",
        "\n",
        "print(reverse_string(\"hello\"))"
      ],
      "metadata": {
        "colab": {
          "base_uri": "https://localhost:8080/"
        },
        "id": "2o2iEN3FOxWH",
        "outputId": "984c8b65-7fd4-4be1-c757-02270b219164"
      },
      "execution_count": null,
      "outputs": [
        {
          "output_type": "stream",
          "name": "stdout",
          "text": [
            "olleh\n"
          ]
        }
      ]
    },
    {
      "cell_type": "markdown",
      "source": [
        "3. Implement a Python function that takes a list of integers and returns a new list containing the squares of each number."
      ],
      "metadata": {
        "id": "wIS87WLUKuzi"
      }
    },
    {
      "cell_type": "code",
      "source": [
        "def square_numbers(numbers):\n",
        "    return [num ** 2 for num in numbers]\n",
        "\n",
        "print(square_numbers([1, 2, 3, 4]))"
      ],
      "metadata": {
        "colab": {
          "base_uri": "https://localhost:8080/"
        },
        "id": "z-R6z7GXOyHA",
        "outputId": "3057efea-4a18-4272-cb46-0ab644c7d39b"
      },
      "execution_count": null,
      "outputs": [
        {
          "output_type": "stream",
          "name": "stdout",
          "text": [
            "[1, 4, 9, 16]\n"
          ]
        }
      ]
    },
    {
      "cell_type": "markdown",
      "source": [
        "4. Write a Python function that checks if a given number is prime or not from 1 to 200."
      ],
      "metadata": {
        "id": "zJNsbrG_Kunc"
      }
    },
    {
      "cell_type": "code",
      "source": [
        "def is_prime(number):\n",
        "    if number < 2:\n",
        "        return False\n",
        "    for i in range(2, int(number ** 0.5) + 1):\n",
        "        if number % i == 0:\n",
        "            return False\n",
        "    return True\n",
        "\n",
        "print(is_prime(17))\n",
        "print(is_prime(4))"
      ],
      "metadata": {
        "colab": {
          "base_uri": "https://localhost:8080/"
        },
        "id": "-sLLmVmiRGPQ",
        "outputId": "a4df4af0-c0e2-4afb-aa3c-b2592d962113"
      },
      "execution_count": null,
      "outputs": [
        {
          "output_type": "stream",
          "name": "stdout",
          "text": [
            "True\n",
            "False\n"
          ]
        }
      ]
    },
    {
      "cell_type": "markdown",
      "source": [
        "5. Create an iterator class in Python that generates the Fibonacci sequence up to a specified number of tearms."
      ],
      "metadata": {
        "id": "iOoLRHkNKubQ"
      }
    },
    {
      "cell_type": "code",
      "source": [
        "class FibonacciIterator:\n",
        "    def __init__(self, n):\n",
        "        self.n = n\n",
        "        self.a, self.b = 0, 1\n",
        "        self.count = 0\n",
        "\n",
        "    def __iter__(self):\n",
        "        return self\n",
        "    def __next__(self):\n",
        "        if self.count >= self.n:\n",
        "            raise StopIteration\n",
        "\n",
        "        result = self.a\n",
        "        self.a, self.b = self.b, self.a + self.b\n",
        "        self.count += 1\n",
        "        return result\n",
        "\n",
        "\n",
        "fib_iter = FibonacciIterator(10)\n",
        "for num in fib_iter:\n",
        "      print(num, end=\" \")"
      ],
      "metadata": {
        "colab": {
          "base_uri": "https://localhost:8080/"
        },
        "id": "eddwMWsQYkkc",
        "outputId": "58633aae-6ef0-48cc-cdd2-3882ba2eee85"
      },
      "execution_count": 24,
      "outputs": [
        {
          "output_type": "stream",
          "name": "stdout",
          "text": [
            "0 1 1 2 3 5 8 13 21 34 "
          ]
        }
      ]
    },
    {
      "cell_type": "markdown",
      "source": [
        "6. Write a generator function in Python that yields the powers of 2 up to a given exponent.\n",
        "\n"
      ],
      "metadata": {
        "id": "N3YqdN4iKuQG"
      }
    },
    {
      "cell_type": "code",
      "source": [
        "def powers_of_two(exponent):\n",
        "    for i in range(exponent + 1):\n",
        "        yield 2 ** i\n",
        "\n",
        "for power in powers_of_two(5):\n",
        "    print(power)"
      ],
      "metadata": {
        "colab": {
          "base_uri": "https://localhost:8080/"
        },
        "id": "EVaBjA8AOzlT",
        "outputId": "5f6636c6-f975-46d6-9acb-ccefc4a17070"
      },
      "execution_count": null,
      "outputs": [
        {
          "output_type": "stream",
          "name": "stdout",
          "text": [
            "1\n",
            "2\n",
            "4\n",
            "8\n",
            "16\n",
            "32\n"
          ]
        }
      ]
    },
    {
      "cell_type": "markdown",
      "source": [
        "7. Implement a generator function that reads a file line by line and yields each line as a string."
      ],
      "metadata": {
        "id": "SWYNYA2-KuFX"
      }
    },
    {
      "cell_type": "code",
      "source": [
        "def read_file_lines(file_path):\n",
        "    with open(file_path, 'r') as file:\n",
        "        for line in file:\n",
        "            yield line.strip()\n",
        "\n",
        "for line in read_file_lines('example.txt'):\n",
        "    print(line)"
      ],
      "metadata": {
        "colab": {
          "base_uri": "https://localhost:8080/",
          "height": 315
        },
        "id": "9e9IqqjlV3BS",
        "outputId": "e0098edd-b0d8-4aea-8a73-21bcac2a7879"
      },
      "execution_count": null,
      "outputs": [
        {
          "output_type": "error",
          "ename": "FileNotFoundError",
          "evalue": "[Errno 2] No such file or directory: 'example.txt'",
          "traceback": [
            "\u001b[0;31m---------------------------------------------------------------------------\u001b[0m",
            "\u001b[0;31mFileNotFoundError\u001b[0m                         Traceback (most recent call last)",
            "\u001b[0;32m<ipython-input-32-28d038f6165b>\u001b[0m in \u001b[0;36m<cell line: 6>\u001b[0;34m()\u001b[0m\n\u001b[1;32m      4\u001b[0m             \u001b[0;32myield\u001b[0m \u001b[0mline\u001b[0m\u001b[0;34m.\u001b[0m\u001b[0mstrip\u001b[0m\u001b[0;34m(\u001b[0m\u001b[0;34m)\u001b[0m\u001b[0;34m\u001b[0m\u001b[0;34m\u001b[0m\u001b[0m\n\u001b[1;32m      5\u001b[0m \u001b[0;34m\u001b[0m\u001b[0m\n\u001b[0;32m----> 6\u001b[0;31m \u001b[0;32mfor\u001b[0m \u001b[0mline\u001b[0m \u001b[0;32min\u001b[0m \u001b[0mread_file_lines\u001b[0m\u001b[0;34m(\u001b[0m\u001b[0;34m'example.txt'\u001b[0m\u001b[0;34m)\u001b[0m\u001b[0;34m:\u001b[0m\u001b[0;34m\u001b[0m\u001b[0;34m\u001b[0m\u001b[0m\n\u001b[0m\u001b[1;32m      7\u001b[0m     \u001b[0mprint\u001b[0m\u001b[0;34m(\u001b[0m\u001b[0mline\u001b[0m\u001b[0;34m)\u001b[0m\u001b[0;34m\u001b[0m\u001b[0;34m\u001b[0m\u001b[0m\n",
            "\u001b[0;32m<ipython-input-32-28d038f6165b>\u001b[0m in \u001b[0;36mread_file_lines\u001b[0;34m(file_path)\u001b[0m\n\u001b[1;32m      1\u001b[0m \u001b[0;32mdef\u001b[0m \u001b[0mread_file_lines\u001b[0m\u001b[0;34m(\u001b[0m\u001b[0mfile_path\u001b[0m\u001b[0;34m)\u001b[0m\u001b[0;34m:\u001b[0m\u001b[0;34m\u001b[0m\u001b[0;34m\u001b[0m\u001b[0m\n\u001b[0;32m----> 2\u001b[0;31m     \u001b[0;32mwith\u001b[0m \u001b[0mopen\u001b[0m\u001b[0;34m(\u001b[0m\u001b[0mfile_path\u001b[0m\u001b[0;34m,\u001b[0m \u001b[0;34m'r'\u001b[0m\u001b[0;34m)\u001b[0m \u001b[0;32mas\u001b[0m \u001b[0mfile\u001b[0m\u001b[0;34m:\u001b[0m\u001b[0;34m\u001b[0m\u001b[0;34m\u001b[0m\u001b[0m\n\u001b[0m\u001b[1;32m      3\u001b[0m         \u001b[0;32mfor\u001b[0m \u001b[0mline\u001b[0m \u001b[0;32min\u001b[0m \u001b[0mfile\u001b[0m\u001b[0;34m:\u001b[0m\u001b[0;34m\u001b[0m\u001b[0;34m\u001b[0m\u001b[0m\n\u001b[1;32m      4\u001b[0m             \u001b[0;32myield\u001b[0m \u001b[0mline\u001b[0m\u001b[0;34m.\u001b[0m\u001b[0mstrip\u001b[0m\u001b[0;34m(\u001b[0m\u001b[0;34m)\u001b[0m\u001b[0;34m\u001b[0m\u001b[0;34m\u001b[0m\u001b[0m\n\u001b[1;32m      5\u001b[0m \u001b[0;34m\u001b[0m\u001b[0m\n",
            "\u001b[0;31mFileNotFoundError\u001b[0m: [Errno 2] No such file or directory: 'example.txt'"
          ]
        }
      ]
    },
    {
      "cell_type": "markdown",
      "source": [
        "8. Use a lambda function in Python to sort a list of tuples based on the second element of each tuple."
      ],
      "metadata": {
        "id": "X9vlFKqtKt5H"
      }
    },
    {
      "cell_type": "code",
      "source": [
        "tuples = [(1, 3), (2, 1), (3, 2), (4, 4)]\n",
        "sorted_tuples = sorted(tuples, key=lambda x: x[1])\n",
        "print(sorted_tuples)"
      ],
      "metadata": {
        "colab": {
          "base_uri": "https://localhost:8080/"
        },
        "id": "z1e5sJhAO1EU",
        "outputId": "306897cb-e3fd-42ee-a675-89b7d3604945"
      },
      "execution_count": null,
      "outputs": [
        {
          "output_type": "stream",
          "name": "stdout",
          "text": [
            "[(2, 1), (3, 2), (1, 3), (4, 4)]\n"
          ]
        }
      ]
    },
    {
      "cell_type": "markdown",
      "source": [
        "9. Write a Python program that uses `map()` to convert a list of temperatures from Celsius to Fahrenheit."
      ],
      "metadata": {
        "id": "oKaGVbrNKtrl"
      }
    },
    {
      "cell_type": "code",
      "source": [
        "def celsius_to_fahrenheit(celsius):\n",
        "    return list(map(lambda x: (9/5) * x + 32, celsius))\n",
        "\n",
        "print(celsius_to_fahrenheit([0, 10, 20, 30]))"
      ],
      "metadata": {
        "colab": {
          "base_uri": "https://localhost:8080/"
        },
        "id": "PAB3gzNgO1w7",
        "outputId": "c2550904-e9d6-4908-8069-62bccf304fa5"
      },
      "execution_count": null,
      "outputs": [
        {
          "output_type": "stream",
          "name": "stdout",
          "text": [
            "[32.0, 50.0, 68.0, 86.0]\n"
          ]
        }
      ]
    },
    {
      "cell_type": "markdown",
      "source": [
        "10. Create a Python program that uses `filter()` to remove all the vowels from a given string."
      ],
      "metadata": {
        "id": "D81yYEZTKtNd"
      }
    },
    {
      "cell_type": "code",
      "source": [
        "def remove_vowels(string):\n",
        "    vowels = 'aeiouAEIOU'\n",
        "    return ''.join(filter(lambda x: x not in vowels, string))\n",
        "\n",
        "print(remove_vowels(\"hello world\"))"
      ],
      "metadata": {
        "colab": {
          "base_uri": "https://localhost:8080/"
        },
        "id": "lB3tB_GoO2dF",
        "outputId": "abd31d4b-8aab-4a3c-d9ad-374d6598427f"
      },
      "execution_count": null,
      "outputs": [
        {
          "output_type": "stream",
          "name": "stdout",
          "text": [
            "hll wrld\n"
          ]
        }
      ]
    },
    {
      "cell_type": "markdown",
      "source": [
        "11) Imagine an accounting routine used in a book shop. It works on a list with sublists, which look like this:\n",
        "- Order Number  \n",
        "  - 34587\n",
        "  - 98762\n",
        "  - 77226\n",
        "  - 88112\n",
        "\n",
        "- Book Title and Author\n",
        "  - Learning Python, Mark Lutz\n",
        "  - Programing Python, Mark Lutz\n",
        "  - Head First Python, Paul Barry\n",
        "  - Einfuhrung in Python3, Bernd Klein\n",
        "\n",
        "- Quantity\n",
        " - 4\n",
        " - 5\n",
        " - 3\n",
        " - 3\n",
        "\n",
        "- Price Per Item\n",
        " - 40.95\n",
        " - 56.80\n",
        " - 32.95\n",
        " - 24.99\n",
        "\n",
        "\n",
        "\n",
        "\n",
        "Write a Python program, which returns a list with 2-tuples. Each tuple consists of the order number and the\n",
        "product of the price per item and the quantity. The product should be increased by 10,- € if the value of the\n",
        "order is smaller than 100,00 €.\n"
      ],
      "metadata": {
        "id": "OaQv3dRjKs97"
      }
    },
    {
      "cell_type": "code",
      "source": [
        "order_numbers = [34587, 98762, 77226, 88112]\n",
        "bool_title_author = ['Learning Python, Mark Lutz', 'Programing Python, Mark Lutz', 'Head First Python, Paul Barry', 'Einfuhrung in Python3, Bernd Klein']\n",
        "quantity = [4, 5, 3, 3]\n",
        "price_per_item = [40.95, 56.80, 32.95, 24.99]\n",
        "\n",
        "order = []\n",
        "\n",
        "for i in range(len(order_numbers)):\n",
        "    order_number = order_numbers[i]\n",
        "    total_price = price_per_item[i] * quantity[i]\n",
        "    if total_price < 100:\n",
        "        total_price += 10\n",
        "    order.append((order_number, total_price))\n",
        "\n",
        "print(order)"
      ],
      "metadata": {
        "id": "0iHVjVGVawZn",
        "colab": {
          "base_uri": "https://localhost:8080/"
        },
        "outputId": "2147a34f-0edd-4122-bf01-5520ab1a97ba"
      },
      "execution_count": 29,
      "outputs": [
        {
          "output_type": "stream",
          "name": "stdout",
          "text": [
            "[(34587, 163.8), (98762, 284.0), (77226, 108.85000000000001), (88112, 84.97)]\n"
          ]
        }
      ]
    }
  ]
}